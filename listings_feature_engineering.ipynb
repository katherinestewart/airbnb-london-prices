{
 "cells": [
  {
   "cell_type": "code",
   "execution_count": 1,
   "id": "e4687033-b7d1-45ed-b664-8fa366aacef0",
   "metadata": {},
   "outputs": [],
   "source": [
    "import os, re, pandas as pd\n",
    "from sqlalchemy import create_engine, text\n",
    "from sqlalchemy.types import BigInteger, Integer, Numeric, Text, Date, Boolean"
   ]
  },
  {
   "cell_type": "code",
   "execution_count": 2,
   "id": "ef38dbc8-a8a1-43c4-8d93-127b7c482edb",
   "metadata": {},
   "outputs": [],
   "source": [
    "engine = create_engine(os.getenv(\"DATABASE_URL\"))"
   ]
  },
  {
   "cell_type": "code",
   "execution_count": 3,
   "id": "6f4b4e7b-93d1-4fb4-97b8-46228dcd880b",
   "metadata": {},
   "outputs": [],
   "source": [
    "listings = pd.read_sql(\"SELECT * FROM raw.listings\", engine)\n",
    "reviews = pd.read_sql(\"SELECT * FROM raw.reviews\", engine)"
   ]
  },
  {
   "cell_type": "code",
   "execution_count": 4,
   "id": "6f2a96ab-dab3-4700-8e1f-e18fb0860460",
   "metadata": {},
   "outputs": [
    {
     "data": {
      "text/html": [
       "<div>\n",
       "<style scoped>\n",
       "    .dataframe tbody tr th:only-of-type {\n",
       "        vertical-align: middle;\n",
       "    }\n",
       "\n",
       "    .dataframe tbody tr th {\n",
       "        vertical-align: top;\n",
       "    }\n",
       "\n",
       "    .dataframe thead th {\n",
       "        text-align: right;\n",
       "    }\n",
       "</style>\n",
       "<table border=\"1\" class=\"dataframe\">\n",
       "  <thead>\n",
       "    <tr style=\"text-align: right;\">\n",
       "      <th></th>\n",
       "      <th>id</th>\n",
       "      <th>listing_url</th>\n",
       "      <th>scrape_id</th>\n",
       "      <th>last_scraped</th>\n",
       "      <th>source</th>\n",
       "      <th>name</th>\n",
       "      <th>description</th>\n",
       "      <th>neighborhood_overview</th>\n",
       "      <th>picture_url</th>\n",
       "      <th>host_id</th>\n",
       "      <th>...</th>\n",
       "      <th>review_scores_communication</th>\n",
       "      <th>review_scores_location</th>\n",
       "      <th>review_scores_value</th>\n",
       "      <th>license</th>\n",
       "      <th>instant_bookable</th>\n",
       "      <th>calculated_host_listings_count</th>\n",
       "      <th>calculated_host_listings_count_entire_homes</th>\n",
       "      <th>calculated_host_listings_count_private_rooms</th>\n",
       "      <th>calculated_host_listings_count_shared_rooms</th>\n",
       "      <th>reviews_per_month</th>\n",
       "    </tr>\n",
       "  </thead>\n",
       "  <tbody>\n",
       "    <tr>\n",
       "      <th>0</th>\n",
       "      <td>264776</td>\n",
       "      <td>https://www.airbnb.com/rooms/264776</td>\n",
       "      <td>20250610032232</td>\n",
       "      <td>2025-06-11</td>\n",
       "      <td>city scrape</td>\n",
       "      <td>Huge Four Bedroom Apartment</td>\n",
       "      <td>An extremely large and sunny four bedroom grou...</td>\n",
       "      <td>Catford is a well established London suburb. T...</td>\n",
       "      <td>https://a0.muscache.com/pictures/hosting/Hosti...</td>\n",
       "      <td>1389063</td>\n",
       "      <td>...</td>\n",
       "      <td>4.74</td>\n",
       "      <td>4.62</td>\n",
       "      <td>4.72</td>\n",
       "      <td>None</td>\n",
       "      <td>t</td>\n",
       "      <td>11</td>\n",
       "      <td>11</td>\n",
       "      <td>0</td>\n",
       "      <td>0</td>\n",
       "      <td>0.51</td>\n",
       "    </tr>\n",
       "    <tr>\n",
       "      <th>1</th>\n",
       "      <td>264777</td>\n",
       "      <td>https://www.airbnb.com/rooms/264777</td>\n",
       "      <td>20250610032232</td>\n",
       "      <td>2025-06-11</td>\n",
       "      <td>city scrape</td>\n",
       "      <td>One Bedroom Apartment</td>\n",
       "      <td>Recently refurbished sunny one bedroom first f...</td>\n",
       "      <td>None</td>\n",
       "      <td>https://a0.muscache.com/pictures/hosting/Hosti...</td>\n",
       "      <td>1389063</td>\n",
       "      <td>...</td>\n",
       "      <td>4.25</td>\n",
       "      <td>4.54</td>\n",
       "      <td>4.42</td>\n",
       "      <td>None</td>\n",
       "      <td>t</td>\n",
       "      <td>11</td>\n",
       "      <td>11</td>\n",
       "      <td>0</td>\n",
       "      <td>0</td>\n",
       "      <td>0.22</td>\n",
       "    </tr>\n",
       "    <tr>\n",
       "      <th>2</th>\n",
       "      <td>264778</td>\n",
       "      <td>https://www.airbnb.com/rooms/264778</td>\n",
       "      <td>20250610032232</td>\n",
       "      <td>2025-06-11</td>\n",
       "      <td>city scrape</td>\n",
       "      <td>Two Bedroom Newly Refurbished Apartment</td>\n",
       "      <td>A large and sunny two bedroom second floor apa...</td>\n",
       "      <td>Catford is a well established London suburb. T...</td>\n",
       "      <td>https://a0.muscache.com/pictures/50662093/af12...</td>\n",
       "      <td>1389063</td>\n",
       "      <td>...</td>\n",
       "      <td>4.52</td>\n",
       "      <td>4.36</td>\n",
       "      <td>4.38</td>\n",
       "      <td>None</td>\n",
       "      <td>t</td>\n",
       "      <td>11</td>\n",
       "      <td>11</td>\n",
       "      <td>0</td>\n",
       "      <td>0</td>\n",
       "      <td>0.43</td>\n",
       "    </tr>\n",
       "    <tr>\n",
       "      <th>3</th>\n",
       "      <td>264779</td>\n",
       "      <td>https://www.airbnb.com/rooms/264779</td>\n",
       "      <td>20250610032232</td>\n",
       "      <td>2025-06-11</td>\n",
       "      <td>city scrape</td>\n",
       "      <td>Refurbished Two Bedroom Apartment</td>\n",
       "      <td>A large and sunny two bedroom second floor apa...</td>\n",
       "      <td>Catford is a well established London suburb. T...</td>\n",
       "      <td>https://a0.muscache.com/pictures/50660860/e440...</td>\n",
       "      <td>1389063</td>\n",
       "      <td>...</td>\n",
       "      <td>4.61</td>\n",
       "      <td>4.5</td>\n",
       "      <td>4.47</td>\n",
       "      <td>None</td>\n",
       "      <td>t</td>\n",
       "      <td>11</td>\n",
       "      <td>11</td>\n",
       "      <td>0</td>\n",
       "      <td>0</td>\n",
       "      <td>0.30</td>\n",
       "    </tr>\n",
       "    <tr>\n",
       "      <th>4</th>\n",
       "      <td>264780</td>\n",
       "      <td>https://www.airbnb.com/rooms/264780</td>\n",
       "      <td>20250610032232</td>\n",
       "      <td>2025-06-11</td>\n",
       "      <td>city scrape</td>\n",
       "      <td>Spacious refurbished 2 bedroom apt with balcony</td>\n",
       "      <td>Completely refurbished 2 bedroom apt to sleep ...</td>\n",
       "      <td>None</td>\n",
       "      <td>https://a0.muscache.com/pictures/airflow/Hosti...</td>\n",
       "      <td>1389063</td>\n",
       "      <td>...</td>\n",
       "      <td>4.74</td>\n",
       "      <td>4.37</td>\n",
       "      <td>4.59</td>\n",
       "      <td>None</td>\n",
       "      <td>t</td>\n",
       "      <td>11</td>\n",
       "      <td>11</td>\n",
       "      <td>0</td>\n",
       "      <td>0</td>\n",
       "      <td>0.35</td>\n",
       "    </tr>\n",
       "  </tbody>\n",
       "</table>\n",
       "<p>5 rows × 79 columns</p>\n",
       "</div>"
      ],
      "text/plain": [
       "       id                          listing_url       scrape_id last_scraped  \\\n",
       "0  264776  https://www.airbnb.com/rooms/264776  20250610032232   2025-06-11   \n",
       "1  264777  https://www.airbnb.com/rooms/264777  20250610032232   2025-06-11   \n",
       "2  264778  https://www.airbnb.com/rooms/264778  20250610032232   2025-06-11   \n",
       "3  264779  https://www.airbnb.com/rooms/264779  20250610032232   2025-06-11   \n",
       "4  264780  https://www.airbnb.com/rooms/264780  20250610032232   2025-06-11   \n",
       "\n",
       "        source                                             name  \\\n",
       "0  city scrape                      Huge Four Bedroom Apartment   \n",
       "1  city scrape                            One Bedroom Apartment   \n",
       "2  city scrape          Two Bedroom Newly Refurbished Apartment   \n",
       "3  city scrape                Refurbished Two Bedroom Apartment   \n",
       "4  city scrape  Spacious refurbished 2 bedroom apt with balcony   \n",
       "\n",
       "                                         description  \\\n",
       "0  An extremely large and sunny four bedroom grou...   \n",
       "1  Recently refurbished sunny one bedroom first f...   \n",
       "2  A large and sunny two bedroom second floor apa...   \n",
       "3  A large and sunny two bedroom second floor apa...   \n",
       "4  Completely refurbished 2 bedroom apt to sleep ...   \n",
       "\n",
       "                               neighborhood_overview  \\\n",
       "0  Catford is a well established London suburb. T...   \n",
       "1                                               None   \n",
       "2  Catford is a well established London suburb. T...   \n",
       "3  Catford is a well established London suburb. T...   \n",
       "4                                               None   \n",
       "\n",
       "                                         picture_url  host_id  ...  \\\n",
       "0  https://a0.muscache.com/pictures/hosting/Hosti...  1389063  ...   \n",
       "1  https://a0.muscache.com/pictures/hosting/Hosti...  1389063  ...   \n",
       "2  https://a0.muscache.com/pictures/50662093/af12...  1389063  ...   \n",
       "3  https://a0.muscache.com/pictures/50660860/e440...  1389063  ...   \n",
       "4  https://a0.muscache.com/pictures/airflow/Hosti...  1389063  ...   \n",
       "\n",
       "  review_scores_communication review_scores_location review_scores_value  \\\n",
       "0                        4.74                   4.62                4.72   \n",
       "1                        4.25                   4.54                4.42   \n",
       "2                        4.52                   4.36                4.38   \n",
       "3                        4.61                    4.5                4.47   \n",
       "4                        4.74                   4.37                4.59   \n",
       "\n",
       "  license instant_bookable calculated_host_listings_count  \\\n",
       "0    None                t                             11   \n",
       "1    None                t                             11   \n",
       "2    None                t                             11   \n",
       "3    None                t                             11   \n",
       "4    None                t                             11   \n",
       "\n",
       "  calculated_host_listings_count_entire_homes  \\\n",
       "0                                          11   \n",
       "1                                          11   \n",
       "2                                          11   \n",
       "3                                          11   \n",
       "4                                          11   \n",
       "\n",
       "  calculated_host_listings_count_private_rooms  \\\n",
       "0                                            0   \n",
       "1                                            0   \n",
       "2                                            0   \n",
       "3                                            0   \n",
       "4                                            0   \n",
       "\n",
       "  calculated_host_listings_count_shared_rooms reviews_per_month  \n",
       "0                                           0              0.51  \n",
       "1                                           0              0.22  \n",
       "2                                           0              0.43  \n",
       "3                                           0              0.30  \n",
       "4                                           0              0.35  \n",
       "\n",
       "[5 rows x 79 columns]"
      ]
     },
     "execution_count": 4,
     "metadata": {},
     "output_type": "execute_result"
    }
   ],
   "source": [
    "listings.head()"
   ]
  },
  {
   "cell_type": "code",
   "execution_count": 5,
   "id": "61ad4a7a-e1b2-4876-8e7e-132faaa6dd0a",
   "metadata": {},
   "outputs": [
    {
     "name": "stdout",
     "output_type": "stream",
     "text": [
      "<class 'pandas.core.frame.DataFrame'>\n",
      "RangeIndex: 96651 entries, 0 to 96650\n",
      "Data columns (total 79 columns):\n",
      " #   Column                                        Non-Null Count  Dtype \n",
      "---  ------                                        --------------  ----- \n",
      " 0   id                                            96651 non-null  object\n",
      " 1   listing_url                                   96651 non-null  object\n",
      " 2   scrape_id                                     96651 non-null  object\n",
      " 3   last_scraped                                  96651 non-null  object\n",
      " 4   source                                        96651 non-null  object\n",
      " 5   name                                          96651 non-null  object\n",
      " 6   description                                   93806 non-null  object\n",
      " 7   neighborhood_overview                         41984 non-null  object\n",
      " 8   picture_url                                   96642 non-null  object\n",
      " 9   host_id                                       96651 non-null  object\n",
      " 10  host_url                                      96651 non-null  object\n",
      " 11  host_name                                     96613 non-null  object\n",
      " 12  host_since                                    96613 non-null  object\n",
      " 13  host_location                                 73323 non-null  object\n",
      " 14  host_about                                    96613 non-null  object\n",
      " 15  host_response_time                            96613 non-null  object\n",
      " 16  host_response_rate                            96613 non-null  object\n",
      " 17  host_acceptance_rate                          96613 non-null  object\n",
      " 18  host_is_superhost                             94828 non-null  object\n",
      " 19  host_thumbnail_url                            96613 non-null  object\n",
      " 20  host_picture_url                              96613 non-null  object\n",
      " 21  host_neighbourhood                            46291 non-null  object\n",
      " 22  host_listings_count                           96613 non-null  object\n",
      " 23  host_total_listings_count                     96613 non-null  object\n",
      " 24  host_verifications                            96651 non-null  object\n",
      " 25  host_has_profile_pic                          96613 non-null  object\n",
      " 26  host_identity_verified                        96613 non-null  object\n",
      " 27  neighbourhood                                 41984 non-null  object\n",
      " 28  neighbourhood_cleansed                        96651 non-null  object\n",
      " 29  neighbourhood_group_cleansed                  0 non-null      object\n",
      " 30  latitude                                      96651 non-null  object\n",
      " 31  longitude                                     96651 non-null  object\n",
      " 32  property_type                                 96651 non-null  object\n",
      " 33  room_type                                     96651 non-null  object\n",
      " 34  accommodates                                  96651 non-null  object\n",
      " 35  bathrooms                                     62730 non-null  object\n",
      " 36  bathrooms_text                                96502 non-null  object\n",
      " 37  bedrooms                                      84071 non-null  object\n",
      " 38  beds                                          62676 non-null  object\n",
      " 39  amenities                                     96651 non-null  object\n",
      " 40  price                                         62684 non-null  object\n",
      " 41  minimum_nights                                96651 non-null  object\n",
      " 42  maximum_nights                                96651 non-null  object\n",
      " 43  minimum_minimum_nights                        96651 non-null  object\n",
      " 44  maximum_minimum_nights                        96651 non-null  object\n",
      " 45  minimum_maximum_nights                        96651 non-null  object\n",
      " 46  maximum_maximum_nights                        96651 non-null  object\n",
      " 47  minimum_nights_avg_ntm                        96651 non-null  object\n",
      " 48  maximum_nights_avg_ntm                        96651 non-null  object\n",
      " 49  calendar_updated                              0 non-null      object\n",
      " 50  has_availability                              92188 non-null  object\n",
      " 51  availability_30                               96651 non-null  object\n",
      " 52  availability_60                               96651 non-null  object\n",
      " 53  availability_90                               96651 non-null  object\n",
      " 54  availability_365                              96651 non-null  object\n",
      " 55  calendar_last_scraped                         96651 non-null  object\n",
      " 56  number_of_reviews                             96651 non-null  object\n",
      " 57  number_of_reviews_ltm                         96651 non-null  object\n",
      " 58  number_of_reviews_l30d                        96651 non-null  object\n",
      " 59  availability_eoy                              96651 non-null  object\n",
      " 60  number_of_reviews_ly                          96651 non-null  object\n",
      " 61  estimated_occupancy_l365d                     96651 non-null  object\n",
      " 62  estimated_revenue_l365d                       62684 non-null  object\n",
      " 63  first_review                                  71487 non-null  object\n",
      " 64  last_review                                   71487 non-null  object\n",
      " 65  review_scores_rating                          71487 non-null  object\n",
      " 66  review_scores_accuracy                        71472 non-null  object\n",
      " 67  review_scores_cleanliness                     71478 non-null  object\n",
      " 68  review_scores_checkin                         71443 non-null  object\n",
      " 69  review_scores_communication                   71466 non-null  object\n",
      " 70  review_scores_location                        71442 non-null  object\n",
      " 71  review_scores_value                           71442 non-null  object\n",
      " 72  license                                       0 non-null      object\n",
      " 73  instant_bookable                              96651 non-null  object\n",
      " 74  calculated_host_listings_count                96651 non-null  object\n",
      " 75  calculated_host_listings_count_entire_homes   96651 non-null  object\n",
      " 76  calculated_host_listings_count_private_rooms  96651 non-null  object\n",
      " 77  calculated_host_listings_count_shared_rooms   96651 non-null  object\n",
      " 78  reviews_per_month                             71487 non-null  object\n",
      "dtypes: object(79)\n",
      "memory usage: 58.3+ MB\n"
     ]
    }
   ],
   "source": [
    "listings.info()"
   ]
  },
  {
   "cell_type": "code",
   "execution_count": 6,
   "id": "1fae7954-2b76-4542-8fb9-ebe3014ef2d8",
   "metadata": {},
   "outputs": [],
   "source": [
    "listings['price'] = (listings['price'].str.replace(r'[^0-9.]', '', regex=True).astype(float))"
   ]
  },
  {
   "cell_type": "code",
   "execution_count": 7,
   "id": "a67644b5-027c-409b-aa02-c3effa9b3313",
   "metadata": {},
   "outputs": [
    {
     "data": {
      "text/plain": [
       "0         297.0\n",
       "1          98.0\n",
       "2         148.0\n",
       "3         144.0\n",
       "4         157.0\n",
       "          ...  \n",
       "96646    1395.0\n",
       "96647      95.0\n",
       "96648     299.0\n",
       "96649    3000.0\n",
       "96650     132.0\n",
       "Name: price, Length: 96651, dtype: float64"
      ]
     },
     "execution_count": 7,
     "metadata": {},
     "output_type": "execute_result"
    }
   ],
   "source": [
    "listings['price']"
   ]
  },
  {
   "cell_type": "code",
   "execution_count": 8,
   "id": "bccbf40c-08d7-484a-adb0-5d43ec4ec5cb",
   "metadata": {},
   "outputs": [
    {
     "data": {
      "text/plain": [
       "np.True_"
      ]
     },
     "execution_count": 8,
     "metadata": {},
     "output_type": "execute_result"
    }
   ],
   "source": [
    "listings.isnull().values.any()"
   ]
  },
  {
   "cell_type": "code",
   "execution_count": 9,
   "id": "057c47db-5b4b-4f89-85cc-90edbfd1897a",
   "metadata": {},
   "outputs": [
    {
     "data": {
      "text/plain": [
       "description                      2845\n",
       "neighborhood_overview           54667\n",
       "picture_url                         9\n",
       "host_name                          38\n",
       "host_since                         38\n",
       "host_location                   23328\n",
       "host_about                         38\n",
       "host_response_time                 38\n",
       "host_response_rate                 38\n",
       "host_acceptance_rate               38\n",
       "host_is_superhost                1823\n",
       "host_thumbnail_url                 38\n",
       "host_picture_url                   38\n",
       "host_neighbourhood              50360\n",
       "host_listings_count                38\n",
       "host_total_listings_count          38\n",
       "host_has_profile_pic               38\n",
       "host_identity_verified             38\n",
       "neighbourhood                   54667\n",
       "neighbourhood_group_cleansed    96651\n",
       "bathrooms                       33921\n",
       "bathrooms_text                    149\n",
       "bedrooms                        12580\n",
       "beds                            33975\n",
       "price                           33967\n",
       "calendar_updated                96651\n",
       "has_availability                 4463\n",
       "estimated_revenue_l365d         33967\n",
       "first_review                    25164\n",
       "last_review                     25164\n",
       "review_scores_rating            25164\n",
       "review_scores_accuracy          25179\n",
       "review_scores_cleanliness       25173\n",
       "review_scores_checkin           25208\n",
       "review_scores_communication     25185\n",
       "review_scores_location          25209\n",
       "review_scores_value             25209\n",
       "license                         96651\n",
       "reviews_per_month               25164\n",
       "dtype: int64"
      ]
     },
     "execution_count": 9,
     "metadata": {},
     "output_type": "execute_result"
    }
   ],
   "source": [
    "#Filtering all columns with NaNs\n",
    "listings.isnull().sum()[listings.isnull().sum() > 0]"
   ]
  },
  {
   "cell_type": "code",
   "execution_count": 10,
   "id": "72a8a075-0424-4190-9e9e-1b04e2df1fa8",
   "metadata": {},
   "outputs": [
    {
     "data": {
      "text/html": [
       "<div>\n",
       "<style scoped>\n",
       "    .dataframe tbody tr th:only-of-type {\n",
       "        vertical-align: middle;\n",
       "    }\n",
       "\n",
       "    .dataframe tbody tr th {\n",
       "        vertical-align: top;\n",
       "    }\n",
       "\n",
       "    .dataframe thead th {\n",
       "        text-align: right;\n",
       "    }\n",
       "</style>\n",
       "<table border=\"1\" class=\"dataframe\">\n",
       "  <thead>\n",
       "    <tr style=\"text-align: right;\">\n",
       "      <th></th>\n",
       "      <th>price</th>\n",
       "    </tr>\n",
       "  </thead>\n",
       "  <tbody>\n",
       "    <tr>\n",
       "      <th>12</th>\n",
       "      <td>NaN</td>\n",
       "    </tr>\n",
       "    <tr>\n",
       "      <th>13</th>\n",
       "      <td>NaN</td>\n",
       "    </tr>\n",
       "    <tr>\n",
       "      <th>14</th>\n",
       "      <td>NaN</td>\n",
       "    </tr>\n",
       "    <tr>\n",
       "      <th>17</th>\n",
       "      <td>NaN</td>\n",
       "    </tr>\n",
       "    <tr>\n",
       "      <th>30</th>\n",
       "      <td>NaN</td>\n",
       "    </tr>\n",
       "    <tr>\n",
       "      <th>...</th>\n",
       "      <td>...</td>\n",
       "    </tr>\n",
       "    <tr>\n",
       "      <th>93358</th>\n",
       "      <td>NaN</td>\n",
       "    </tr>\n",
       "    <tr>\n",
       "      <th>93377</th>\n",
       "      <td>NaN</td>\n",
       "    </tr>\n",
       "    <tr>\n",
       "      <th>93394</th>\n",
       "      <td>NaN</td>\n",
       "    </tr>\n",
       "    <tr>\n",
       "      <th>93424</th>\n",
       "      <td>NaN</td>\n",
       "    </tr>\n",
       "    <tr>\n",
       "      <th>93433</th>\n",
       "      <td>NaN</td>\n",
       "    </tr>\n",
       "  </tbody>\n",
       "</table>\n",
       "<p>33967 rows × 1 columns</p>\n",
       "</div>"
      ],
      "text/plain": [
       "       price\n",
       "12       NaN\n",
       "13       NaN\n",
       "14       NaN\n",
       "17       NaN\n",
       "30       NaN\n",
       "...      ...\n",
       "93358    NaN\n",
       "93377    NaN\n",
       "93394    NaN\n",
       "93424    NaN\n",
       "93433    NaN\n",
       "\n",
       "[33967 rows x 1 columns]"
      ]
     },
     "execution_count": 10,
     "metadata": {},
     "output_type": "execute_result"
    }
   ],
   "source": [
    "#Filtering the price column to check the associated null values\n",
    "listings[listings['price'].isnull()][['price']]"
   ]
  },
  {
   "cell_type": "code",
   "execution_count": 11,
   "id": "ca21850b-8a08-4bf8-b50f-43a44f95c38a",
   "metadata": {},
   "outputs": [],
   "source": [
    "#Replace the missing price values with the series mean\n",
    "listings['price'] = listings['price'].fillna(listings['price'].mean())"
   ]
  },
  {
   "cell_type": "code",
   "execution_count": 12,
   "id": "56597b6e-c7ce-4a74-8068-21b873649443",
   "metadata": {},
   "outputs": [
    {
     "data": {
      "text/plain": [
       "np.False_"
      ]
     },
     "execution_count": 12,
     "metadata": {},
     "output_type": "execute_result"
    }
   ],
   "source": [
    "#checking if the price column still has nulls\n",
    "listings['price'].isnull().values.any()"
   ]
  },
  {
   "cell_type": "code",
   "execution_count": 13,
   "id": "4f147cff-87ac-483a-8c44-f2edf46ca80b",
   "metadata": {},
   "outputs": [],
   "source": [
    "#removing columns with more the 50% missing values\n",
    "listings = listings.drop(columns=['neighbourhood_group_cleansed','calendar_updated','license'])"
   ]
  },
  {
   "cell_type": "code",
   "execution_count": 14,
   "id": "af28f3a5-2b43-4e2d-bb06-2cfcde2836d3",
   "metadata": {},
   "outputs": [
    {
     "data": {
      "text/plain": [
       "description                     2845\n",
       "neighborhood_overview          54667\n",
       "picture_url                        9\n",
       "host_name                         38\n",
       "host_since                        38\n",
       "host_location                  23328\n",
       "host_about                        38\n",
       "host_response_time                38\n",
       "host_response_rate                38\n",
       "host_acceptance_rate              38\n",
       "host_is_superhost               1823\n",
       "host_thumbnail_url                38\n",
       "host_picture_url                  38\n",
       "host_neighbourhood             50360\n",
       "host_listings_count               38\n",
       "host_total_listings_count         38\n",
       "host_has_profile_pic              38\n",
       "host_identity_verified            38\n",
       "neighbourhood                  54667\n",
       "bathrooms                      33921\n",
       "bathrooms_text                   149\n",
       "bedrooms                       12580\n",
       "beds                           33975\n",
       "has_availability                4463\n",
       "estimated_revenue_l365d        33967\n",
       "first_review                   25164\n",
       "last_review                    25164\n",
       "review_scores_rating           25164\n",
       "review_scores_accuracy         25179\n",
       "review_scores_cleanliness      25173\n",
       "review_scores_checkin          25208\n",
       "review_scores_communication    25185\n",
       "review_scores_location         25209\n",
       "review_scores_value            25209\n",
       "reviews_per_month              25164\n",
       "dtype: int64"
      ]
     },
     "execution_count": 14,
     "metadata": {},
     "output_type": "execute_result"
    }
   ],
   "source": [
    "#Filtering all columns with NaNs\n",
    "listings.isnull().sum()[listings.isnull().sum() > 0]"
   ]
  },
  {
   "cell_type": "code",
   "execution_count": 15,
   "id": "d2f9909f-9787-49b3-9129-5354d88e2e4c",
   "metadata": {},
   "outputs": [
    {
     "data": {
      "text/plain": [
       "0        t\n",
       "1        t\n",
       "2        t\n",
       "3        t\n",
       "4        t\n",
       "        ..\n",
       "96646    t\n",
       "96647    t\n",
       "96648    t\n",
       "96649    t\n",
       "96650    t\n",
       "Name: host_identity_verified, Length: 96651, dtype: object"
      ]
     },
     "execution_count": 15,
     "metadata": {},
     "output_type": "execute_result"
    }
   ],
   "source": [
    "listings['host_identity_verified']"
   ]
  },
  {
   "cell_type": "code",
   "execution_count": 16,
   "id": "4da35049-d99c-42d7-bd67-0edc59940810",
   "metadata": {},
   "outputs": [],
   "source": [
    "listings['host_since'] = pd.to_datetime(listings['host_since'])"
   ]
  },
  {
   "cell_type": "code",
   "execution_count": 17,
   "id": "2b6c3fa6-1c39-4c8d-a702-20143ef3fd99",
   "metadata": {},
   "outputs": [
    {
     "name": "stdout",
     "output_type": "stream",
     "text": [
      "datetime64[ns]\n"
     ]
    }
   ],
   "source": [
    "print(listings['host_since'].dtype)"
   ]
  },
  {
   "cell_type": "code",
   "execution_count": 18,
   "id": "1e1ab97e-37de-4cda-93cf-6d7569162c53",
   "metadata": {},
   "outputs": [],
   "source": [
    "listings['host_since'] = listings['host_since'].ffill()"
   ]
  },
  {
   "cell_type": "code",
   "execution_count": 19,
   "id": "b654cede-4e70-447b-8ffa-6688c3364f03",
   "metadata": {},
   "outputs": [
    {
     "data": {
      "text/plain": [
       "np.False_"
      ]
     },
     "execution_count": 19,
     "metadata": {},
     "output_type": "execute_result"
    }
   ],
   "source": [
    "#checking if the host_since column still has nulls\n",
    "listings['host_since'].isnull().values.any()"
   ]
  },
  {
   "cell_type": "code",
   "execution_count": 20,
   "id": "c13d7833-9e11-4e8b-94fb-b5f7db5c23fc",
   "metadata": {},
   "outputs": [
    {
     "data": {
      "text/plain": [
       "0         86%\n",
       "1         86%\n",
       "2         86%\n",
       "3         86%\n",
       "4         86%\n",
       "         ... \n",
       "96646     96%\n",
       "96647    100%\n",
       "96648     90%\n",
       "96649     99%\n",
       "96650    100%\n",
       "Name: host_response_rate, Length: 96651, dtype: object"
      ]
     },
     "execution_count": 20,
     "metadata": {},
     "output_type": "execute_result"
    }
   ],
   "source": [
    "listings['host_response_rate']"
   ]
  },
  {
   "cell_type": "code",
   "execution_count": 21,
   "id": "f112f0cf-9a49-471c-a155-92596a1c5c08",
   "metadata": {},
   "outputs": [],
   "source": [
    "listings['host_response_rate'] = pd.to_numeric(listings['host_response_rate'].str.rstrip('%'),errors='coerce')/100"
   ]
  },
  {
   "cell_type": "code",
   "execution_count": 22,
   "id": "610a6af6-d61e-4bcb-b438-94c1802ee386",
   "metadata": {},
   "outputs": [],
   "source": [
    "#Replace the missing host response rate values with the series mean\n",
    "listings['host_response_rate'] = listings['host_response_rate'].fillna(listings['host_response_rate'].mean())"
   ]
  },
  {
   "cell_type": "code",
   "execution_count": 23,
   "id": "7e052b3a-a004-4a64-85be-1b564c58d3b2",
   "metadata": {},
   "outputs": [
    {
     "data": {
      "text/plain": [
       "np.False_"
      ]
     },
     "execution_count": 23,
     "metadata": {},
     "output_type": "execute_result"
    }
   ],
   "source": [
    "#checking if the column still has nulls\n",
    "listings['host_response_rate'].isnull().values.any()"
   ]
  },
  {
   "cell_type": "code",
   "execution_count": 24,
   "id": "2b376a32-da58-4537-883a-36696156aa32",
   "metadata": {},
   "outputs": [],
   "source": [
    "listings['host_acceptance_rate'] = pd.to_numeric(listings['host_acceptance_rate'].str.rstrip('%'),errors='coerce')/100"
   ]
  },
  {
   "cell_type": "code",
   "execution_count": 25,
   "id": "7f9e880c-a03e-46b8-aec2-355957a34e46",
   "metadata": {},
   "outputs": [],
   "source": [
    "#Replace the missing host response rate values with the series mean\n",
    "listings['host_acceptance_rate'] = listings['host_acceptance_rate'].fillna(listings['host_acceptance_rate'].mean())"
   ]
  },
  {
   "cell_type": "code",
   "execution_count": 26,
   "id": "f3fcede9-5e1d-4f1a-bf41-b0500f337070",
   "metadata": {},
   "outputs": [
    {
     "data": {
      "text/plain": [
       "np.False_"
      ]
     },
     "execution_count": 26,
     "metadata": {},
     "output_type": "execute_result"
    }
   ],
   "source": [
    "#checking if the column still has nulls\n",
    "listings['host_response_rate'].isnull().values.any()"
   ]
  },
  {
   "cell_type": "code",
   "execution_count": 27,
   "id": "6a586567-3d9d-4070-91f0-9f1e8e9029a3",
   "metadata": {},
   "outputs": [],
   "source": [
    "#converting column into number column\n",
    "listings['host_listings_count'] = pd.to_numeric(listings['host_listings_count'],errors='coerce')"
   ]
  },
  {
   "cell_type": "code",
   "execution_count": 28,
   "id": "fbc9404a-5811-4517-bc84-21c43e5cde5b",
   "metadata": {},
   "outputs": [],
   "source": [
    "#Replace the missing host listings count values with 1\n",
    "listings['host_listings_count'] = listings['host_listings_count'].fillna(1)"
   ]
  },
  {
   "cell_type": "code",
   "execution_count": 29,
   "id": "114a76bd-b666-4d1a-b24b-85ba6e916e63",
   "metadata": {},
   "outputs": [
    {
     "data": {
      "text/plain": [
       "np.False_"
      ]
     },
     "execution_count": 29,
     "metadata": {},
     "output_type": "execute_result"
    }
   ],
   "source": [
    "#checking if the column still has nulls\n",
    "listings['host_response_rate'].isnull().values.any()"
   ]
  },
  {
   "cell_type": "code",
   "execution_count": 30,
   "id": "bd15804d-35cd-4986-a204-876a379d5d0a",
   "metadata": {},
   "outputs": [],
   "source": [
    "#converting column into number column\n",
    "listings['host_total_listings_count'] = pd.to_numeric(listings['host_total_listings_count'],errors='coerce')\n",
    "#Replace the missing host listings count values with 1\n",
    "listings['host_total_listings_count'] = listings['host_total_listings_count'].fillna(1)"
   ]
  },
  {
   "cell_type": "code",
   "execution_count": 31,
   "id": "3a8b75de-d849-4d1a-b6ce-46a103d1f978",
   "metadata": {},
   "outputs": [
    {
     "data": {
      "text/plain": [
       "np.False_"
      ]
     },
     "execution_count": 31,
     "metadata": {},
     "output_type": "execute_result"
    }
   ],
   "source": [
    "#checking if the column still has nulls\n",
    "listings['host_total_listings_count'].isnull().values.any()"
   ]
  },
  {
   "cell_type": "code",
   "execution_count": 32,
   "id": "8b85b258-7a4d-461b-bfdc-4cc37b8f1338",
   "metadata": {},
   "outputs": [
    {
     "data": {
      "text/plain": [
       "description                     2845\n",
       "neighborhood_overview          54667\n",
       "picture_url                        9\n",
       "host_name                         38\n",
       "host_location                  23328\n",
       "host_about                        38\n",
       "host_response_time                38\n",
       "host_is_superhost               1823\n",
       "host_thumbnail_url                38\n",
       "host_picture_url                  38\n",
       "host_neighbourhood             50360\n",
       "host_has_profile_pic              38\n",
       "host_identity_verified            38\n",
       "neighbourhood                  54667\n",
       "bathrooms                      33921\n",
       "bathrooms_text                   149\n",
       "bedrooms                       12580\n",
       "beds                           33975\n",
       "has_availability                4463\n",
       "estimated_revenue_l365d        33967\n",
       "first_review                   25164\n",
       "last_review                    25164\n",
       "review_scores_rating           25164\n",
       "review_scores_accuracy         25179\n",
       "review_scores_cleanliness      25173\n",
       "review_scores_checkin          25208\n",
       "review_scores_communication    25185\n",
       "review_scores_location         25209\n",
       "review_scores_value            25209\n",
       "reviews_per_month              25164\n",
       "dtype: int64"
      ]
     },
     "execution_count": 32,
     "metadata": {},
     "output_type": "execute_result"
    }
   ],
   "source": [
    "#Filtering all columns with NaNs\n",
    "listings.isnull().sum()[listings.isnull().sum() > 0]"
   ]
  },
  {
   "cell_type": "code",
   "execution_count": 33,
   "id": "052b463d-6812-48f1-aff7-d2bc479f49eb",
   "metadata": {},
   "outputs": [],
   "source": [
    "listings = listings.drop(columns=['neighborhood_overview','host_neighbourhood','neighbourhood'])"
   ]
  },
  {
   "cell_type": "code",
   "execution_count": 34,
   "id": "cc37892e-9d27-430f-b63a-b9326e03e147",
   "metadata": {},
   "outputs": [
    {
     "data": {
      "text/plain": [
       "description                     2845\n",
       "picture_url                        9\n",
       "host_name                         38\n",
       "host_location                  23328\n",
       "host_about                        38\n",
       "host_response_time                38\n",
       "host_is_superhost               1823\n",
       "host_thumbnail_url                38\n",
       "host_picture_url                  38\n",
       "host_has_profile_pic              38\n",
       "host_identity_verified            38\n",
       "bathrooms                      33921\n",
       "bathrooms_text                   149\n",
       "bedrooms                       12580\n",
       "beds                           33975\n",
       "has_availability                4463\n",
       "estimated_revenue_l365d        33967\n",
       "first_review                   25164\n",
       "last_review                    25164\n",
       "review_scores_rating           25164\n",
       "review_scores_accuracy         25179\n",
       "review_scores_cleanliness      25173\n",
       "review_scores_checkin          25208\n",
       "review_scores_communication    25185\n",
       "review_scores_location         25209\n",
       "review_scores_value            25209\n",
       "reviews_per_month              25164\n",
       "dtype: int64"
      ]
     },
     "execution_count": 34,
     "metadata": {},
     "output_type": "execute_result"
    }
   ],
   "source": [
    "#Filtering all columns with NaNs\n",
    "listings.isnull().sum()[listings.isnull().sum() > 0]"
   ]
  },
  {
   "cell_type": "code",
   "execution_count": 35,
   "id": "d0e8edfa-6559-4d8f-8860-a794180f5d5c",
   "metadata": {},
   "outputs": [],
   "source": [
    "#convert bathrooms_text into number column\n",
    "listings['bathrooms_text'] = pd.to_numeric(listings['bathrooms_text'].str.replace(r'\\s*baths?\\b', '', regex=True), errors='coerce')"
   ]
  },
  {
   "cell_type": "code",
   "execution_count": 36,
   "id": "75e8fd94-f3a4-47e8-83c7-fcf688e7caea",
   "metadata": {},
   "outputs": [],
   "source": [
    "#Replace the missing bathroom values with 0\n",
    "listings['bathrooms_text'] = listings['bathrooms_text'].fillna(0)"
   ]
  },
  {
   "cell_type": "code",
   "execution_count": 37,
   "id": "38f788bf-9bef-4a30-92eb-a4969246d71e",
   "metadata": {},
   "outputs": [
    {
     "data": {
      "text/plain": [
       "np.False_"
      ]
     },
     "execution_count": 37,
     "metadata": {},
     "output_type": "execute_result"
    }
   ],
   "source": [
    "#checking if the column still has nulls\n",
    "listings['host_response_rate'].isnull().values.any()"
   ]
  },
  {
   "cell_type": "code",
   "execution_count": 38,
   "id": "c71ae2fb-7aef-48fa-b11f-299b20161530",
   "metadata": {},
   "outputs": [],
   "source": [
    "def impute_bedrooms_and_beds(df):\n",
    "    \"\"\"\n",
    "    Imputes missing values in 'bedrooms' and 'beds' using each other.\n",
    "    Assumes 1 bed per bedroom and vice versa if one is missing.\n",
    "    \"\"\"\n",
    "    # Ensure numeric types\n",
    "    df['bedrooms'] = pd.to_numeric(df['bedrooms'], errors='coerce')\n",
    "    df['beds'] = pd.to_numeric(df['beds'], errors='coerce')\n",
    "\n",
    "    # Impute beds using bedrooms\n",
    "    missing_beds = df['beds'].isnull() & df['bedrooms'].notnull()\n",
    "    df.loc[missing_beds, 'beds'] = df.loc[missing_beds, 'bedrooms']\n",
    "\n",
    "    # Impute bedrooms using beds\n",
    "    missing_bedrooms = df['bedrooms'].isnull() & df['beds'].notnull()\n",
    "    df.loc[missing_bedrooms, 'bedrooms'] = df.loc[missing_bedrooms, 'beds']\n",
    "    \n",
    "    return df"
   ]
  },
  {
   "cell_type": "code",
   "execution_count": 39,
   "id": "21fde10d-c0c0-4678-81c0-3315229f12d2",
   "metadata": {},
   "outputs": [],
   "source": [
    "listings = impute_bedrooms_and_beds(listings)"
   ]
  },
  {
   "cell_type": "code",
   "execution_count": 40,
   "id": "6408fbe2-9c04-4930-b20f-6f3605e381cd",
   "metadata": {},
   "outputs": [],
   "source": [
    "def impute_missing_values(df,col,fill_value=0):\n",
    "    #Replace the missing values with the fill value\n",
    "    df[col] = df[col].fillna(fill_value)\n",
    "    return df"
   ]
  },
  {
   "cell_type": "code",
   "execution_count": 41,
   "id": "33608ada-668d-47bc-9e3c-4c7075710a6e",
   "metadata": {},
   "outputs": [],
   "source": [
    "for col in ['beds','bedrooms']:\n",
    "    listings = impute_missing_values(listings,col,fill_value=1)"
   ]
  },
  {
   "cell_type": "code",
   "execution_count": 42,
   "id": "6ece656f-10f8-4351-8586-953a0b775e7d",
   "metadata": {},
   "outputs": [
    {
     "data": {
      "text/plain": [
       "np.False_"
      ]
     },
     "execution_count": 42,
     "metadata": {},
     "output_type": "execute_result"
    }
   ],
   "source": [
    "#checking if the column still has nulls\n",
    "listings['bedrooms'].isnull().values.any()"
   ]
  },
  {
   "cell_type": "code",
   "execution_count": 43,
   "id": "f722ae19-097d-4db4-ab3d-b545bc76321f",
   "metadata": {},
   "outputs": [],
   "source": [
    "for col in ['host_has_profile_pic','host_identity_verified','has_availability']:\n",
    "    listings = impute_missing_values(listings,col,fill_value='f')"
   ]
  },
  {
   "cell_type": "code",
   "execution_count": 44,
   "id": "310669ad-611d-4100-ab21-21808dd6c072",
   "metadata": {},
   "outputs": [
    {
     "data": {
      "text/plain": [
       "np.False_"
      ]
     },
     "execution_count": 44,
     "metadata": {},
     "output_type": "execute_result"
    }
   ],
   "source": [
    "#checking if the column still has nulls\n",
    "listings['has_availability'].isnull().values.any()"
   ]
  },
  {
   "cell_type": "code",
   "execution_count": 45,
   "id": "9ed10420-fb2e-43c6-9cd8-6c36eac7009d",
   "metadata": {},
   "outputs": [],
   "source": [
    "def convert_to_num_and_impute(df,col):\n",
    "    #converting column into number column\n",
    "    df[col] = pd.to_numeric(df[col],errors='coerce')\n",
    "    #calculate mean value\n",
    "    mean_value = df[col].mean()\n",
    "    #Replace the missing values with fill_value\n",
    "    df[col] = df[col].fillna(mean_value)\n",
    "    return df"
   ]
  },
  {
   "cell_type": "code",
   "execution_count": 46,
   "id": "00e88c94-24c4-46ca-b4d2-b77bb10d38fc",
   "metadata": {},
   "outputs": [],
   "source": [
    "review_columns = ['review_scores_rating','review_scores_accuracy','review_scores_cleanliness',\n",
    "                  'review_scores_checkin','review_scores_communication','review_scores_location',\n",
    "                  'review_scores_value','reviews_per_month']\n",
    "for col in review_columns:\n",
    "    listings = convert_to_num_and_impute(listings,col)"
   ]
  },
  {
   "cell_type": "code",
   "execution_count": 47,
   "id": "7c2dd1fb-edc1-4d28-a648-3744a073fd72",
   "metadata": {},
   "outputs": [
    {
     "data": {
      "text/plain": [
       "np.False_"
      ]
     },
     "execution_count": 47,
     "metadata": {},
     "output_type": "execute_result"
    }
   ],
   "source": [
    "listings['review_scores_communication'].isnull().values.any()"
   ]
  },
  {
   "cell_type": "code",
   "execution_count": 48,
   "id": "e5b957f8-ac3d-4059-a3d5-e9845287ccb1",
   "metadata": {},
   "outputs": [],
   "source": [
    "def convert_to_datetime_and_impute(df,col):\n",
    "    #convert columns to date_time\n",
    "    df[col] = pd.to_datetime(df[col])\n",
    "    #impute missing date with previous date \n",
    "    df[col] = df[col].ffill()\n",
    "    return df"
   ]
  },
  {
   "cell_type": "code",
   "execution_count": 49,
   "id": "876a48d3-b20d-4ccc-80bb-9af41bfe6271",
   "metadata": {},
   "outputs": [],
   "source": [
    "for col in ['first_review','last_review']:\n",
    "    listings = convert_to_datetime_and_impute(listings,col)"
   ]
  },
  {
   "cell_type": "code",
   "execution_count": 50,
   "id": "8f0ae374-2e9d-474c-b9d1-202a82f3f657",
   "metadata": {},
   "outputs": [],
   "source": [
    "#Drop the bathrooms the column. its similar to bathroom_text\n",
    "listings = listings.drop(columns='bathrooms')"
   ]
  },
  {
   "cell_type": "code",
   "execution_count": 51,
   "id": "22ddf9d5-5cc7-4d4c-b34a-e77fc021a34e",
   "metadata": {},
   "outputs": [
    {
     "data": {
      "text/plain": [
       "description                 2845\n",
       "picture_url                    9\n",
       "host_name                     38\n",
       "host_location              23328\n",
       "host_about                    38\n",
       "host_response_time            38\n",
       "host_is_superhost           1823\n",
       "host_thumbnail_url            38\n",
       "host_picture_url              38\n",
       "estimated_revenue_l365d    33967\n",
       "dtype: int64"
      ]
     },
     "execution_count": 51,
     "metadata": {},
     "output_type": "execute_result"
    }
   ],
   "source": [
    "#Filtering all columns with NaNs\n",
    "listings.isnull().sum()[listings.isnull().sum() > 0]"
   ]
  },
  {
   "cell_type": "code",
   "execution_count": 52,
   "id": "c3f9eda0-7992-44f5-b873-50428f4da8a5",
   "metadata": {},
   "outputs": [
    {
     "data": {
      "text/plain": [
       "0        32670\n",
       "1         3626\n",
       "2         8140\n",
       "3         9216\n",
       "4         5809\n",
       "         ...  \n",
       "96646        0\n",
       "96647        0\n",
       "96648        0\n",
       "96649        0\n",
       "96650        0\n",
       "Name: estimated_revenue_l365d, Length: 96651, dtype: object"
      ]
     },
     "execution_count": 52,
     "metadata": {},
     "output_type": "execute_result"
    }
   ],
   "source": [
    "listings['estimated_revenue_l365d']"
   ]
  },
  {
   "cell_type": "code",
   "execution_count": 53,
   "id": "46cceec0-ec6f-42bd-b237-85db4e933ebb",
   "metadata": {},
   "outputs": [],
   "source": [
    "listings = impute_missing_values(listings,'host_is_superhost',fill_value='f')"
   ]
  },
  {
   "cell_type": "code",
   "execution_count": 54,
   "id": "74c73fdf-5e07-4c54-832d-65fd5f6aa3ba",
   "metadata": {},
   "outputs": [],
   "source": [
    "#converting column into number column\n",
    "listings['estimated_revenue_l365d'] = pd.to_numeric(listings['estimated_revenue_l365d'],errors='coerce')\n",
    "#Replace the missing values with fill_value\n",
    "listings['estimated_revenue_l365d'] = listings['estimated_revenue_l365d'].fillna(0)"
   ]
  },
  {
   "cell_type": "code",
   "execution_count": 55,
   "id": "9cd5faad-7bec-4f78-a412-08b27786ccac",
   "metadata": {},
   "outputs": [
    {
     "data": {
      "text/plain": [
       "description            2845\n",
       "picture_url               9\n",
       "host_name                38\n",
       "host_location         23328\n",
       "host_about               38\n",
       "host_response_time       38\n",
       "host_thumbnail_url       38\n",
       "host_picture_url         38\n",
       "dtype: int64"
      ]
     },
     "execution_count": 55,
     "metadata": {},
     "output_type": "execute_result"
    }
   ],
   "source": [
    "#Filtering all columns with NaNs\n",
    "listings.isnull().sum()[listings.isnull().sum() > 0]"
   ]
  },
  {
   "cell_type": "code",
   "execution_count": 56,
   "id": "54eeb59a-9564-4500-a99d-9fe1ab269d30",
   "metadata": {},
   "outputs": [
    {
     "name": "stdout",
     "output_type": "stream",
     "text": [
      "<class 'pandas.core.frame.DataFrame'>\n",
      "RangeIndex: 96651 entries, 0 to 96650\n",
      "Data columns (total 72 columns):\n",
      " #   Column                                        Non-Null Count  Dtype         \n",
      "---  ------                                        --------------  -----         \n",
      " 0   id                                            96651 non-null  object        \n",
      " 1   listing_url                                   96651 non-null  object        \n",
      " 2   scrape_id                                     96651 non-null  object        \n",
      " 3   last_scraped                                  96651 non-null  object        \n",
      " 4   source                                        96651 non-null  object        \n",
      " 5   name                                          96651 non-null  object        \n",
      " 6   description                                   93806 non-null  object        \n",
      " 7   picture_url                                   96642 non-null  object        \n",
      " 8   host_id                                       96651 non-null  object        \n",
      " 9   host_url                                      96651 non-null  object        \n",
      " 10  host_name                                     96613 non-null  object        \n",
      " 11  host_since                                    96651 non-null  datetime64[ns]\n",
      " 12  host_location                                 73323 non-null  object        \n",
      " 13  host_about                                    96613 non-null  object        \n",
      " 14  host_response_time                            96613 non-null  object        \n",
      " 15  host_response_rate                            96651 non-null  float64       \n",
      " 16  host_acceptance_rate                          96651 non-null  float64       \n",
      " 17  host_is_superhost                             96651 non-null  object        \n",
      " 18  host_thumbnail_url                            96613 non-null  object        \n",
      " 19  host_picture_url                              96613 non-null  object        \n",
      " 20  host_listings_count                           96651 non-null  float64       \n",
      " 21  host_total_listings_count                     96651 non-null  float64       \n",
      " 22  host_verifications                            96651 non-null  object        \n",
      " 23  host_has_profile_pic                          96651 non-null  object        \n",
      " 24  host_identity_verified                        96651 non-null  object        \n",
      " 25  neighbourhood_cleansed                        96651 non-null  object        \n",
      " 26  latitude                                      96651 non-null  object        \n",
      " 27  longitude                                     96651 non-null  object        \n",
      " 28  property_type                                 96651 non-null  object        \n",
      " 29  room_type                                     96651 non-null  object        \n",
      " 30  accommodates                                  96651 non-null  object        \n",
      " 31  bathrooms_text                                96651 non-null  float64       \n",
      " 32  bedrooms                                      96651 non-null  float64       \n",
      " 33  beds                                          96651 non-null  float64       \n",
      " 34  amenities                                     96651 non-null  object        \n",
      " 35  price                                         96651 non-null  float64       \n",
      " 36  minimum_nights                                96651 non-null  object        \n",
      " 37  maximum_nights                                96651 non-null  object        \n",
      " 38  minimum_minimum_nights                        96651 non-null  object        \n",
      " 39  maximum_minimum_nights                        96651 non-null  object        \n",
      " 40  minimum_maximum_nights                        96651 non-null  object        \n",
      " 41  maximum_maximum_nights                        96651 non-null  object        \n",
      " 42  minimum_nights_avg_ntm                        96651 non-null  object        \n",
      " 43  maximum_nights_avg_ntm                        96651 non-null  object        \n",
      " 44  has_availability                              96651 non-null  object        \n",
      " 45  availability_30                               96651 non-null  object        \n",
      " 46  availability_60                               96651 non-null  object        \n",
      " 47  availability_90                               96651 non-null  object        \n",
      " 48  availability_365                              96651 non-null  object        \n",
      " 49  calendar_last_scraped                         96651 non-null  object        \n",
      " 50  number_of_reviews                             96651 non-null  object        \n",
      " 51  number_of_reviews_ltm                         96651 non-null  object        \n",
      " 52  number_of_reviews_l30d                        96651 non-null  object        \n",
      " 53  availability_eoy                              96651 non-null  object        \n",
      " 54  number_of_reviews_ly                          96651 non-null  object        \n",
      " 55  estimated_occupancy_l365d                     96651 non-null  object        \n",
      " 56  estimated_revenue_l365d                       96651 non-null  float64       \n",
      " 57  first_review                                  96651 non-null  datetime64[ns]\n",
      " 58  last_review                                   96651 non-null  datetime64[ns]\n",
      " 59  review_scores_rating                          96651 non-null  float64       \n",
      " 60  review_scores_accuracy                        96651 non-null  float64       \n",
      " 61  review_scores_cleanliness                     96651 non-null  float64       \n",
      " 62  review_scores_checkin                         96651 non-null  float64       \n",
      " 63  review_scores_communication                   96651 non-null  float64       \n",
      " 64  review_scores_location                        96651 non-null  float64       \n",
      " 65  review_scores_value                           96651 non-null  float64       \n",
      " 66  instant_bookable                              96651 non-null  object        \n",
      " 67  calculated_host_listings_count                96651 non-null  object        \n",
      " 68  calculated_host_listings_count_entire_homes   96651 non-null  object        \n",
      " 69  calculated_host_listings_count_private_rooms  96651 non-null  object        \n",
      " 70  calculated_host_listings_count_shared_rooms   96651 non-null  object        \n",
      " 71  reviews_per_month                             96651 non-null  float64       \n",
      "dtypes: datetime64[ns](3), float64(17), object(52)\n",
      "memory usage: 53.1+ MB\n"
     ]
    }
   ],
   "source": [
    "listings.info()"
   ]
  },
  {
   "cell_type": "code",
   "execution_count": 57,
   "id": "c1b679ab-58af-4c0a-b7a7-5ec92789e80d",
   "metadata": {},
   "outputs": [
    {
     "data": {
      "text/plain": [
       "Index(['id', 'listing_url', 'scrape_id', 'last_scraped', 'source', 'name',\n",
       "       'description', 'picture_url', 'host_id', 'host_url', 'host_name',\n",
       "       'host_since', 'host_location', 'host_about', 'host_response_time',\n",
       "       'host_response_rate', 'host_acceptance_rate', 'host_is_superhost',\n",
       "       'host_thumbnail_url', 'host_picture_url', 'host_listings_count',\n",
       "       'host_total_listings_count', 'host_verifications',\n",
       "       'host_has_profile_pic', 'host_identity_verified',\n",
       "       'neighbourhood_cleansed', 'latitude', 'longitude', 'property_type',\n",
       "       'room_type', 'accommodates', 'bathrooms_text', 'bedrooms', 'beds',\n",
       "       'amenities', 'price', 'minimum_nights', 'maximum_nights',\n",
       "       'minimum_minimum_nights', 'maximum_minimum_nights',\n",
       "       'minimum_maximum_nights', 'maximum_maximum_nights',\n",
       "       'minimum_nights_avg_ntm', 'maximum_nights_avg_ntm', 'has_availability',\n",
       "       'availability_30', 'availability_60', 'availability_90',\n",
       "       'availability_365', 'calendar_last_scraped', 'number_of_reviews',\n",
       "       'number_of_reviews_ltm', 'number_of_reviews_l30d', 'availability_eoy',\n",
       "       'number_of_reviews_ly', 'estimated_occupancy_l365d',\n",
       "       'estimated_revenue_l365d', 'first_review', 'last_review',\n",
       "       'review_scores_rating', 'review_scores_accuracy',\n",
       "       'review_scores_cleanliness', 'review_scores_checkin',\n",
       "       'review_scores_communication', 'review_scores_location',\n",
       "       'review_scores_value', 'instant_bookable',\n",
       "       'calculated_host_listings_count',\n",
       "       'calculated_host_listings_count_entire_homes',\n",
       "       'calculated_host_listings_count_private_rooms',\n",
       "       'calculated_host_listings_count_shared_rooms', 'reviews_per_month'],\n",
       "      dtype='object')"
      ]
     },
     "execution_count": 57,
     "metadata": {},
     "output_type": "execute_result"
    }
   ],
   "source": [
    "listings.columns"
   ]
  },
  {
   "cell_type": "code",
   "execution_count": 58,
   "id": "bd627ec8-0768-440d-b3d6-3d1039e20497",
   "metadata": {},
   "outputs": [
    {
     "data": {
      "text/html": [
       "<div>\n",
       "<style scoped>\n",
       "    .dataframe tbody tr th:only-of-type {\n",
       "        vertical-align: middle;\n",
       "    }\n",
       "\n",
       "    .dataframe tbody tr th {\n",
       "        vertical-align: top;\n",
       "    }\n",
       "\n",
       "    .dataframe thead th {\n",
       "        text-align: right;\n",
       "    }\n",
       "</style>\n",
       "<table border=\"1\" class=\"dataframe\">\n",
       "  <thead>\n",
       "    <tr style=\"text-align: right;\">\n",
       "      <th></th>\n",
       "      <th>minimum_nights</th>\n",
       "      <th>maximum_nights</th>\n",
       "      <th>minimum_minimum_nights</th>\n",
       "      <th>maximum_minimum_nights</th>\n",
       "      <th>minimum_maximum_nights</th>\n",
       "      <th>maximum_maximum_nights</th>\n",
       "      <th>minimum_nights_avg_ntm</th>\n",
       "      <th>maximum_nights_avg_ntm</th>\n",
       "      <th>availability_30</th>\n",
       "      <th>availability_60</th>\n",
       "      <th>availability_90</th>\n",
       "      <th>availability_365</th>\n",
       "      <th>calculated_host_listings_count</th>\n",
       "      <th>calculated_host_listings_count_entire_homes</th>\n",
       "      <th>calculated_host_listings_count_private_rooms</th>\n",
       "      <th>calculated_host_listings_count_shared_rooms</th>\n",
       "    </tr>\n",
       "  </thead>\n",
       "  <tbody>\n",
       "    <tr>\n",
       "      <th>0</th>\n",
       "      <td>3</td>\n",
       "      <td>365</td>\n",
       "      <td>3</td>\n",
       "      <td>3</td>\n",
       "      <td>1125</td>\n",
       "      <td>1125</td>\n",
       "      <td>3.0</td>\n",
       "      <td>1125.0</td>\n",
       "      <td>13</td>\n",
       "      <td>15</td>\n",
       "      <td>31</td>\n",
       "      <td>293</td>\n",
       "      <td>11</td>\n",
       "      <td>11</td>\n",
       "      <td>0</td>\n",
       "      <td>0</td>\n",
       "    </tr>\n",
       "    <tr>\n",
       "      <th>1</th>\n",
       "      <td>3</td>\n",
       "      <td>365</td>\n",
       "      <td>3</td>\n",
       "      <td>3</td>\n",
       "      <td>1125</td>\n",
       "      <td>1125</td>\n",
       "      <td>3.0</td>\n",
       "      <td>1125.0</td>\n",
       "      <td>0</td>\n",
       "      <td>13</td>\n",
       "      <td>43</td>\n",
       "      <td>318</td>\n",
       "      <td>11</td>\n",
       "      <td>11</td>\n",
       "      <td>0</td>\n",
       "      <td>0</td>\n",
       "    </tr>\n",
       "    <tr>\n",
       "      <th>2</th>\n",
       "      <td>3</td>\n",
       "      <td>365</td>\n",
       "      <td>1</td>\n",
       "      <td>3</td>\n",
       "      <td>1125</td>\n",
       "      <td>1125</td>\n",
       "      <td>3.0</td>\n",
       "      <td>1125.0</td>\n",
       "      <td>3</td>\n",
       "      <td>6</td>\n",
       "      <td>27</td>\n",
       "      <td>302</td>\n",
       "      <td>11</td>\n",
       "      <td>11</td>\n",
       "      <td>0</td>\n",
       "      <td>0</td>\n",
       "    </tr>\n",
       "    <tr>\n",
       "      <th>3</th>\n",
       "      <td>3</td>\n",
       "      <td>365</td>\n",
       "      <td>3</td>\n",
       "      <td>3</td>\n",
       "      <td>1125</td>\n",
       "      <td>1125</td>\n",
       "      <td>3.0</td>\n",
       "      <td>1125.0</td>\n",
       "      <td>11</td>\n",
       "      <td>33</td>\n",
       "      <td>53</td>\n",
       "      <td>328</td>\n",
       "      <td>11</td>\n",
       "      <td>11</td>\n",
       "      <td>0</td>\n",
       "      <td>0</td>\n",
       "    </tr>\n",
       "    <tr>\n",
       "      <th>4</th>\n",
       "      <td>3</td>\n",
       "      <td>365</td>\n",
       "      <td>3</td>\n",
       "      <td>3</td>\n",
       "      <td>1125</td>\n",
       "      <td>1125</td>\n",
       "      <td>3.0</td>\n",
       "      <td>1125.0</td>\n",
       "      <td>0</td>\n",
       "      <td>9</td>\n",
       "      <td>11</td>\n",
       "      <td>255</td>\n",
       "      <td>11</td>\n",
       "      <td>11</td>\n",
       "      <td>0</td>\n",
       "      <td>0</td>\n",
       "    </tr>\n",
       "  </tbody>\n",
       "</table>\n",
       "</div>"
      ],
      "text/plain": [
       "  minimum_nights maximum_nights minimum_minimum_nights maximum_minimum_nights  \\\n",
       "0              3            365                      3                      3   \n",
       "1              3            365                      3                      3   \n",
       "2              3            365                      1                      3   \n",
       "3              3            365                      3                      3   \n",
       "4              3            365                      3                      3   \n",
       "\n",
       "  minimum_maximum_nights maximum_maximum_nights minimum_nights_avg_ntm  \\\n",
       "0                   1125                   1125                    3.0   \n",
       "1                   1125                   1125                    3.0   \n",
       "2                   1125                   1125                    3.0   \n",
       "3                   1125                   1125                    3.0   \n",
       "4                   1125                   1125                    3.0   \n",
       "\n",
       "  maximum_nights_avg_ntm availability_30 availability_60 availability_90  \\\n",
       "0                 1125.0              13              15              31   \n",
       "1                 1125.0               0              13              43   \n",
       "2                 1125.0               3               6              27   \n",
       "3                 1125.0              11              33              53   \n",
       "4                 1125.0               0               9              11   \n",
       "\n",
       "  availability_365 calculated_host_listings_count  \\\n",
       "0              293                             11   \n",
       "1              318                             11   \n",
       "2              302                             11   \n",
       "3              328                             11   \n",
       "4              255                             11   \n",
       "\n",
       "  calculated_host_listings_count_entire_homes  \\\n",
       "0                                          11   \n",
       "1                                          11   \n",
       "2                                          11   \n",
       "3                                          11   \n",
       "4                                          11   \n",
       "\n",
       "  calculated_host_listings_count_private_rooms  \\\n",
       "0                                            0   \n",
       "1                                            0   \n",
       "2                                            0   \n",
       "3                                            0   \n",
       "4                                            0   \n",
       "\n",
       "  calculated_host_listings_count_shared_rooms  \n",
       "0                                           0  \n",
       "1                                           0  \n",
       "2                                           0  \n",
       "3                                           0  \n",
       "4                                           0  "
      ]
     },
     "execution_count": 58,
     "metadata": {},
     "output_type": "execute_result"
    }
   ],
   "source": [
    "listings.head()[['minimum_nights', 'maximum_nights',\n",
    "       'minimum_minimum_nights', 'maximum_minimum_nights',\n",
    "       'minimum_maximum_nights', 'maximum_maximum_nights',\n",
    "       'minimum_nights_avg_ntm', 'maximum_nights_avg_ntm',\n",
    "       'availability_30', 'availability_60', 'availability_90',\n",
    "       'availability_365','calculated_host_listings_count',\n",
    "       'calculated_host_listings_count_entire_homes',\n",
    "       'calculated_host_listings_count_private_rooms',\n",
    "       'calculated_host_listings_count_shared_rooms']]"
   ]
  },
  {
   "cell_type": "code",
   "execution_count": 59,
   "id": "f17a6064-b321-4c49-9059-e1c1b0ae205d",
   "metadata": {},
   "outputs": [],
   "source": [
    "num_columns = ['minimum_nights', 'maximum_nights',\n",
    "       'minimum_minimum_nights', 'maximum_minimum_nights',\n",
    "       'minimum_maximum_nights', 'maximum_maximum_nights',\n",
    "       'minimum_nights_avg_ntm', 'maximum_nights_avg_ntm',\n",
    "       'availability_30', 'availability_60', 'availability_90',\n",
    "       'availability_365','calculated_host_listings_count',\n",
    "       'calculated_host_listings_count_entire_homes',\n",
    "       'calculated_host_listings_count_private_rooms',\n",
    "       'calculated_host_listings_count_shared_rooms']\n",
    "for col in num_columns:\n",
    "    listings = convert_to_num_and_impute(listings,col)"
   ]
  },
  {
   "cell_type": "code",
   "execution_count": 60,
   "id": "322aa59e-f6e2-45a3-ad2e-e51ec418ea97",
   "metadata": {},
   "outputs": [
    {
     "data": {
      "text/html": [
       "<div>\n",
       "<style scoped>\n",
       "    .dataframe tbody tr th:only-of-type {\n",
       "        vertical-align: middle;\n",
       "    }\n",
       "\n",
       "    .dataframe tbody tr th {\n",
       "        vertical-align: top;\n",
       "    }\n",
       "\n",
       "    .dataframe thead th {\n",
       "        text-align: right;\n",
       "    }\n",
       "</style>\n",
       "<table border=\"1\" class=\"dataframe\">\n",
       "  <thead>\n",
       "    <tr style=\"text-align: right;\">\n",
       "      <th></th>\n",
       "      <th>number_of_reviews</th>\n",
       "      <th>number_of_reviews_ltm</th>\n",
       "      <th>number_of_reviews_l30d</th>\n",
       "      <th>availability_eoy</th>\n",
       "      <th>number_of_reviews_ly</th>\n",
       "      <th>estimated_occupancy_l365d</th>\n",
       "    </tr>\n",
       "  </thead>\n",
       "  <tbody>\n",
       "    <tr>\n",
       "      <th>0</th>\n",
       "      <td>68</td>\n",
       "      <td>12</td>\n",
       "      <td>1</td>\n",
       "      <td>134</td>\n",
       "      <td>15</td>\n",
       "      <td>110</td>\n",
       "    </tr>\n",
       "    <tr>\n",
       "      <th>1</th>\n",
       "      <td>24</td>\n",
       "      <td>4</td>\n",
       "      <td>0</td>\n",
       "      <td>157</td>\n",
       "      <td>7</td>\n",
       "      <td>37</td>\n",
       "    </tr>\n",
       "    <tr>\n",
       "      <th>2</th>\n",
       "      <td>58</td>\n",
       "      <td>6</td>\n",
       "      <td>0</td>\n",
       "      <td>141</td>\n",
       "      <td>8</td>\n",
       "      <td>55</td>\n",
       "    </tr>\n",
       "    <tr>\n",
       "      <th>3</th>\n",
       "      <td>36</td>\n",
       "      <td>7</td>\n",
       "      <td>0</td>\n",
       "      <td>167</td>\n",
       "      <td>7</td>\n",
       "      <td>64</td>\n",
       "    </tr>\n",
       "    <tr>\n",
       "      <th>4</th>\n",
       "      <td>54</td>\n",
       "      <td>4</td>\n",
       "      <td>0</td>\n",
       "      <td>101</td>\n",
       "      <td>7</td>\n",
       "      <td>37</td>\n",
       "    </tr>\n",
       "  </tbody>\n",
       "</table>\n",
       "</div>"
      ],
      "text/plain": [
       "  number_of_reviews number_of_reviews_ltm number_of_reviews_l30d  \\\n",
       "0                68                    12                      1   \n",
       "1                24                     4                      0   \n",
       "2                58                     6                      0   \n",
       "3                36                     7                      0   \n",
       "4                54                     4                      0   \n",
       "\n",
       "  availability_eoy number_of_reviews_ly estimated_occupancy_l365d  \n",
       "0              134                   15                       110  \n",
       "1              157                    7                        37  \n",
       "2              141                    8                        55  \n",
       "3              167                    7                        64  \n",
       "4              101                    7                        37  "
      ]
     },
     "execution_count": 60,
     "metadata": {},
     "output_type": "execute_result"
    }
   ],
   "source": [
    "listings.head()[['number_of_reviews',\n",
    "       'number_of_reviews_ltm', 'number_of_reviews_l30d', 'availability_eoy',\n",
    "       'number_of_reviews_ly', 'estimated_occupancy_l365d']]"
   ]
  },
  {
   "cell_type": "code",
   "execution_count": 61,
   "id": "55de57f4-7960-4636-a088-fdd3a65c4d2f",
   "metadata": {},
   "outputs": [],
   "source": [
    "nm_columns = ['number_of_reviews',\n",
    "       'number_of_reviews_ltm', 'number_of_reviews_l30d', 'availability_eoy',\n",
    "       'number_of_reviews_ly', 'estimated_occupancy_l365d']\n",
    "for col in nm_columns:\n",
    "    listings = convert_to_num_and_impute(listings,col)"
   ]
  },
  {
   "cell_type": "code",
   "execution_count": 62,
   "id": "78dd06c0-ca68-41ec-9c2f-43dee9400e7b",
   "metadata": {},
   "outputs": [
    {
     "data": {
      "text/html": [
       "<div>\n",
       "<style scoped>\n",
       "    .dataframe tbody tr th:only-of-type {\n",
       "        vertical-align: middle;\n",
       "    }\n",
       "\n",
       "    .dataframe tbody tr th {\n",
       "        vertical-align: top;\n",
       "    }\n",
       "\n",
       "    .dataframe thead th {\n",
       "        text-align: right;\n",
       "    }\n",
       "</style>\n",
       "<table border=\"1\" class=\"dataframe\">\n",
       "  <thead>\n",
       "    <tr style=\"text-align: right;\">\n",
       "      <th></th>\n",
       "      <th>latitude</th>\n",
       "      <th>longitude</th>\n",
       "      <th>property_type</th>\n",
       "      <th>room_type</th>\n",
       "      <th>accommodates</th>\n",
       "      <th>amenities</th>\n",
       "      <th>host_listings_count</th>\n",
       "      <th>host_total_listings_count</th>\n",
       "      <th>host_verifications</th>\n",
       "      <th>host_has_profile_pic</th>\n",
       "      <th>host_identity_verified</th>\n",
       "    </tr>\n",
       "  </thead>\n",
       "  <tbody>\n",
       "    <tr>\n",
       "      <th>0</th>\n",
       "      <td>51.44306</td>\n",
       "      <td>-0.01948</td>\n",
       "      <td>Entire rental unit</td>\n",
       "      <td>Entire home/apt</td>\n",
       "      <td>10</td>\n",
       "      <td>[\"Cooking basics\", \"Washer\", \"Iron\", \"Smoke al...</td>\n",
       "      <td>11.0</td>\n",
       "      <td>12.0</td>\n",
       "      <td>['email', 'phone']</td>\n",
       "      <td>t</td>\n",
       "      <td>t</td>\n",
       "    </tr>\n",
       "    <tr>\n",
       "      <th>1</th>\n",
       "      <td>51.44284</td>\n",
       "      <td>-0.01997</td>\n",
       "      <td>Entire rental unit</td>\n",
       "      <td>Entire home/apt</td>\n",
       "      <td>2</td>\n",
       "      <td>[\"Cooking basics\", \"Wine glasses\", \"Iron\", \"Sm...</td>\n",
       "      <td>11.0</td>\n",
       "      <td>12.0</td>\n",
       "      <td>['email', 'phone']</td>\n",
       "      <td>t</td>\n",
       "      <td>t</td>\n",
       "    </tr>\n",
       "    <tr>\n",
       "      <th>2</th>\n",
       "      <td>51.44359</td>\n",
       "      <td>-0.02275</td>\n",
       "      <td>Entire rental unit</td>\n",
       "      <td>Entire home/apt</td>\n",
       "      <td>4</td>\n",
       "      <td>[\"Cooking basics\", \"Iron\", \"Smoke alarm\", \"Fir...</td>\n",
       "      <td>11.0</td>\n",
       "      <td>12.0</td>\n",
       "      <td>['email', 'phone']</td>\n",
       "      <td>t</td>\n",
       "      <td>t</td>\n",
       "    </tr>\n",
       "    <tr>\n",
       "      <th>3</th>\n",
       "      <td>51.44355</td>\n",
       "      <td>-0.02309</td>\n",
       "      <td>Entire rental unit</td>\n",
       "      <td>Entire home/apt</td>\n",
       "      <td>5</td>\n",
       "      <td>[\"Cooking basics\", \"Iron\", \"Smoke alarm\", \"Fir...</td>\n",
       "      <td>11.0</td>\n",
       "      <td>12.0</td>\n",
       "      <td>['email', 'phone']</td>\n",
       "      <td>t</td>\n",
       "      <td>t</td>\n",
       "    </tr>\n",
       "    <tr>\n",
       "      <th>4</th>\n",
       "      <td>51.44333</td>\n",
       "      <td>-0.02307</td>\n",
       "      <td>Entire rental unit</td>\n",
       "      <td>Entire home/apt</td>\n",
       "      <td>4</td>\n",
       "      <td>[\"Cooking basics\", \"Washer\", \"Iron\", \"Smoke al...</td>\n",
       "      <td>11.0</td>\n",
       "      <td>12.0</td>\n",
       "      <td>['email', 'phone']</td>\n",
       "      <td>t</td>\n",
       "      <td>t</td>\n",
       "    </tr>\n",
       "  </tbody>\n",
       "</table>\n",
       "</div>"
      ],
      "text/plain": [
       "   latitude longitude       property_type        room_type accommodates  \\\n",
       "0  51.44306  -0.01948  Entire rental unit  Entire home/apt           10   \n",
       "1  51.44284  -0.01997  Entire rental unit  Entire home/apt            2   \n",
       "2  51.44359  -0.02275  Entire rental unit  Entire home/apt            4   \n",
       "3  51.44355  -0.02309  Entire rental unit  Entire home/apt            5   \n",
       "4  51.44333  -0.02307  Entire rental unit  Entire home/apt            4   \n",
       "\n",
       "                                           amenities  host_listings_count  \\\n",
       "0  [\"Cooking basics\", \"Washer\", \"Iron\", \"Smoke al...                 11.0   \n",
       "1  [\"Cooking basics\", \"Wine glasses\", \"Iron\", \"Sm...                 11.0   \n",
       "2  [\"Cooking basics\", \"Iron\", \"Smoke alarm\", \"Fir...                 11.0   \n",
       "3  [\"Cooking basics\", \"Iron\", \"Smoke alarm\", \"Fir...                 11.0   \n",
       "4  [\"Cooking basics\", \"Washer\", \"Iron\", \"Smoke al...                 11.0   \n",
       "\n",
       "   host_total_listings_count  host_verifications host_has_profile_pic  \\\n",
       "0                       12.0  ['email', 'phone']                    t   \n",
       "1                       12.0  ['email', 'phone']                    t   \n",
       "2                       12.0  ['email', 'phone']                    t   \n",
       "3                       12.0  ['email', 'phone']                    t   \n",
       "4                       12.0  ['email', 'phone']                    t   \n",
       "\n",
       "  host_identity_verified  \n",
       "0                      t  \n",
       "1                      t  \n",
       "2                      t  \n",
       "3                      t  \n",
       "4                      t  "
      ]
     },
     "execution_count": 62,
     "metadata": {},
     "output_type": "execute_result"
    }
   ],
   "source": [
    "listings.head()[['latitude', 'longitude', 'property_type',\n",
    "       'room_type', 'accommodates','amenities','host_listings_count',\n",
    "       'host_total_listings_count', 'host_verifications',\n",
    "       'host_has_profile_pic', 'host_identity_verified']]"
   ]
  },
  {
   "cell_type": "code",
   "execution_count": 63,
   "id": "bc8298cf-8b12-48d3-b9c6-1e4a7a9faac7",
   "metadata": {},
   "outputs": [],
   "source": [
    "nt_colms = ['latitude', 'longitude', 'accommodates','host_listings_count',\n",
    "       'host_total_listings_count']\n",
    "for col in nt_colms:\n",
    "    listings = convert_to_num_and_impute(listings,col)"
   ]
  },
  {
   "cell_type": "code",
   "execution_count": 64,
   "id": "f7923bf6-7ef9-4a7a-b9e1-b10038d8f550",
   "metadata": {},
   "outputs": [
    {
     "name": "stdout",
     "output_type": "stream",
     "text": [
      "<class 'pandas.core.frame.DataFrame'>\n",
      "RangeIndex: 96651 entries, 0 to 96650\n",
      "Data columns (total 72 columns):\n",
      " #   Column                                        Non-Null Count  Dtype         \n",
      "---  ------                                        --------------  -----         \n",
      " 0   id                                            96651 non-null  object        \n",
      " 1   listing_url                                   96651 non-null  object        \n",
      " 2   scrape_id                                     96651 non-null  object        \n",
      " 3   last_scraped                                  96651 non-null  object        \n",
      " 4   source                                        96651 non-null  object        \n",
      " 5   name                                          96651 non-null  object        \n",
      " 6   description                                   93806 non-null  object        \n",
      " 7   picture_url                                   96642 non-null  object        \n",
      " 8   host_id                                       96651 non-null  object        \n",
      " 9   host_url                                      96651 non-null  object        \n",
      " 10  host_name                                     96613 non-null  object        \n",
      " 11  host_since                                    96651 non-null  datetime64[ns]\n",
      " 12  host_location                                 73323 non-null  object        \n",
      " 13  host_about                                    96613 non-null  object        \n",
      " 14  host_response_time                            96613 non-null  object        \n",
      " 15  host_response_rate                            96651 non-null  float64       \n",
      " 16  host_acceptance_rate                          96651 non-null  float64       \n",
      " 17  host_is_superhost                             96651 non-null  object        \n",
      " 18  host_thumbnail_url                            96613 non-null  object        \n",
      " 19  host_picture_url                              96613 non-null  object        \n",
      " 20  host_listings_count                           96651 non-null  float64       \n",
      " 21  host_total_listings_count                     96651 non-null  float64       \n",
      " 22  host_verifications                            96651 non-null  object        \n",
      " 23  host_has_profile_pic                          96651 non-null  object        \n",
      " 24  host_identity_verified                        96651 non-null  object        \n",
      " 25  neighbourhood_cleansed                        96651 non-null  object        \n",
      " 26  latitude                                      96651 non-null  float64       \n",
      " 27  longitude                                     96651 non-null  float64       \n",
      " 28  property_type                                 96651 non-null  object        \n",
      " 29  room_type                                     96651 non-null  object        \n",
      " 30  accommodates                                  96651 non-null  int64         \n",
      " 31  bathrooms_text                                96651 non-null  float64       \n",
      " 32  bedrooms                                      96651 non-null  float64       \n",
      " 33  beds                                          96651 non-null  float64       \n",
      " 34  amenities                                     96651 non-null  object        \n",
      " 35  price                                         96651 non-null  float64       \n",
      " 36  minimum_nights                                96651 non-null  int64         \n",
      " 37  maximum_nights                                96651 non-null  int64         \n",
      " 38  minimum_minimum_nights                        96651 non-null  int64         \n",
      " 39  maximum_minimum_nights                        96651 non-null  int64         \n",
      " 40  minimum_maximum_nights                        96651 non-null  int64         \n",
      " 41  maximum_maximum_nights                        96651 non-null  int64         \n",
      " 42  minimum_nights_avg_ntm                        96651 non-null  float64       \n",
      " 43  maximum_nights_avg_ntm                        96651 non-null  float64       \n",
      " 44  has_availability                              96651 non-null  object        \n",
      " 45  availability_30                               96651 non-null  int64         \n",
      " 46  availability_60                               96651 non-null  int64         \n",
      " 47  availability_90                               96651 non-null  int64         \n",
      " 48  availability_365                              96651 non-null  int64         \n",
      " 49  calendar_last_scraped                         96651 non-null  object        \n",
      " 50  number_of_reviews                             96651 non-null  int64         \n",
      " 51  number_of_reviews_ltm                         96651 non-null  int64         \n",
      " 52  number_of_reviews_l30d                        96651 non-null  int64         \n",
      " 53  availability_eoy                              96651 non-null  int64         \n",
      " 54  number_of_reviews_ly                          96651 non-null  int64         \n",
      " 55  estimated_occupancy_l365d                     96651 non-null  int64         \n",
      " 56  estimated_revenue_l365d                       96651 non-null  float64       \n",
      " 57  first_review                                  96651 non-null  datetime64[ns]\n",
      " 58  last_review                                   96651 non-null  datetime64[ns]\n",
      " 59  review_scores_rating                          96651 non-null  float64       \n",
      " 60  review_scores_accuracy                        96651 non-null  float64       \n",
      " 61  review_scores_cleanliness                     96651 non-null  float64       \n",
      " 62  review_scores_checkin                         96651 non-null  float64       \n",
      " 63  review_scores_communication                   96651 non-null  float64       \n",
      " 64  review_scores_location                        96651 non-null  float64       \n",
      " 65  review_scores_value                           96651 non-null  float64       \n",
      " 66  instant_bookable                              96651 non-null  object        \n",
      " 67  calculated_host_listings_count                96651 non-null  int64         \n",
      " 68  calculated_host_listings_count_entire_homes   96651 non-null  int64         \n",
      " 69  calculated_host_listings_count_private_rooms  96651 non-null  int64         \n",
      " 70  calculated_host_listings_count_shared_rooms   96651 non-null  int64         \n",
      " 71  reviews_per_month                             96651 non-null  float64       \n",
      "dtypes: datetime64[ns](3), float64(21), int64(21), object(27)\n",
      "memory usage: 53.1+ MB\n"
     ]
    }
   ],
   "source": [
    "listings.info()"
   ]
  },
  {
   "cell_type": "code",
   "execution_count": 65,
   "id": "9613bb6f-3a15-42cf-a2dd-8ce2551fb018",
   "metadata": {},
   "outputs": [],
   "source": [
    "import ast\n",
    "from sklearn.preprocessing import MultiLabelBinarizer\n",
    "from scipy import sparse"
   ]
  },
  {
   "cell_type": "code",
   "execution_count": 66,
   "id": "0c5747f1-8912-4c55-8ece-f69338647039",
   "metadata": {},
   "outputs": [
    {
     "data": {
      "text/plain": [
       "Index(['id', 'listing_url', 'scrape_id', 'last_scraped', 'source', 'name',\n",
       "       'description', 'picture_url', 'host_id', 'host_url', 'host_name',\n",
       "       'host_since', 'host_location', 'host_about', 'host_response_time',\n",
       "       'host_response_rate', 'host_acceptance_rate', 'host_is_superhost',\n",
       "       'host_thumbnail_url', 'host_picture_url', 'host_listings_count',\n",
       "       'host_total_listings_count', 'host_verifications',\n",
       "       'host_has_profile_pic', 'host_identity_verified',\n",
       "       'neighbourhood_cleansed', 'latitude', 'longitude', 'property_type',\n",
       "       'room_type', 'accommodates', 'bathrooms_text', 'bedrooms', 'beds',\n",
       "       'amenities', 'price', 'minimum_nights', 'maximum_nights',\n",
       "       'minimum_minimum_nights', 'maximum_minimum_nights',\n",
       "       'minimum_maximum_nights', 'maximum_maximum_nights',\n",
       "       'minimum_nights_avg_ntm', 'maximum_nights_avg_ntm', 'has_availability',\n",
       "       'availability_30', 'availability_60', 'availability_90',\n",
       "       'availability_365', 'calendar_last_scraped', 'number_of_reviews',\n",
       "       'number_of_reviews_ltm', 'number_of_reviews_l30d', 'availability_eoy',\n",
       "       'number_of_reviews_ly', 'estimated_occupancy_l365d',\n",
       "       'estimated_revenue_l365d', 'first_review', 'last_review',\n",
       "       'review_scores_rating', 'review_scores_accuracy',\n",
       "       'review_scores_cleanliness', 'review_scores_checkin',\n",
       "       'review_scores_communication', 'review_scores_location',\n",
       "       'review_scores_value', 'instant_bookable',\n",
       "       'calculated_host_listings_count',\n",
       "       'calculated_host_listings_count_entire_homes',\n",
       "       'calculated_host_listings_count_private_rooms',\n",
       "       'calculated_host_listings_count_shared_rooms', 'reviews_per_month'],\n",
       "      dtype='object')"
      ]
     },
     "execution_count": 66,
     "metadata": {},
     "output_type": "execute_result"
    }
   ],
   "source": [
    "listings.columns"
   ]
  },
  {
   "cell_type": "code",
   "execution_count": null,
   "id": "ec8e499a-7bb8-4505-a745-77ed53e520e4",
   "metadata": {},
   "outputs": [],
   "source": [
    "['id', 'name','description',  'host_id', 'host_name',\n",
    "       'host_since', 'host_response_rate', 'host_acceptance_rate', 'host_is_superhost',\n",
    "       'host_total_listings_count', 'host_has_profile_pic', 'host_identity_verified',\n",
    "       'neighbourhood_cleansed', 'latitude', 'longitude', 'property_type',\n",
    "       'room_type', 'accommodates', 'bathrooms_text', 'bedrooms', 'beds','price', 'minimum_nights', 'maximum_nights',\n",
    "       'minimum_minimum_nights', 'maximum_minimum_nights',\n",
    "       'minimum_maximum_nights', 'maximum_maximum_nights',\n",
    "       'minimum_nights_avg_ntm', 'maximum_nights_avg_ntm', 'has_availability',\n",
    "       'availability_30', 'availability_60', 'availability_90',\n",
    "       'availability_365', 'number_of_reviews',\n",
    "       'number_of_reviews_ltm', 'number_of_reviews_l30d', 'availability_eoy',\n",
    "       'number_of_reviews_ly', 'estimated_occupancy_l365d',\n",
    "       'estimated_revenue_l365d', 'first_review', 'last_review',\n",
    "       'review_scores_rating', 'review_scores_accuracy',\n",
    "       'review_scores_cleanliness', 'review_scores_checkin',\n",
    "       'review_scores_communication', 'review_scores_location',\n",
    "       'review_scores_value', 'instant_bookable',\n",
    "       'calculated_host_listings_count',\n",
    "       'calculated_host_listings_count_entire_homes',\n",
    "       'calculated_host_listings_count_private_rooms',\n",
    "       'calculated_host_listings_count_shared_rooms', 'reviews_per_month']"
   ]
  },
  {
   "cell_type": "code",
   "execution_count": 97,
   "id": "2ad2244c-bb11-4887-9a9a-0e1d2dee2a1d",
   "metadata": {},
   "outputs": [
    {
     "data": {
      "text/plain": [
       "0        110\n",
       "1         37\n",
       "2         55\n",
       "3         64\n",
       "4         37\n",
       "        ... \n",
       "96646      0\n",
       "96647      0\n",
       "96648      0\n",
       "96649      0\n",
       "96650      0\n",
       "Name: estimated_occupancy_l365d, Length: 96651, dtype: int64"
      ]
     },
     "execution_count": 97,
     "metadata": {},
     "output_type": "execute_result"
    }
   ],
   "source": [
    "listings['estimated_occupancy_l365d']"
   ]
  },
  {
   "cell_type": "code",
   "execution_count": 98,
   "id": "6391c4d8-ecc0-456a-93a5-95195683fd68",
   "metadata": {},
   "outputs": [
    {
     "data": {
      "text/plain": [
       "8409"
      ]
     },
     "execution_count": 98,
     "metadata": {},
     "output_type": "execute_result"
    }
   ],
   "source": [
    "columns_to_keep = ['id', 'name','description',  'host_id', 'host_name',\n",
    "       'host_since', 'host_response_rate', 'host_acceptance_rate', 'host_is_superhost',\n",
    "       'host_total_listings_count', 'host_has_profile_pic', 'host_identity_verified',\n",
    "       'neighbourhood_cleansed', 'latitude', 'longitude', 'property_type',\n",
    "       'room_type', 'accommodates', 'bathrooms_text', 'bedrooms', 'beds','price', 'minimum_nights', 'maximum_nights',\n",
    "       'minimum_minimum_nights', 'maximum_minimum_nights',\n",
    "       'minimum_maximum_nights', 'maximum_maximum_nights',\n",
    "       'minimum_nights_avg_ntm', 'maximum_nights_avg_ntm', 'has_availability',\n",
    "       'availability_30', 'availability_60', 'availability_90',\n",
    "       'availability_365', 'number_of_reviews',\n",
    "       'number_of_reviews_ltm', 'number_of_reviews_l30d', 'availability_eoy',\n",
    "       'number_of_reviews_ly', 'estimated_occupancy_l365d',\n",
    "       'estimated_revenue_l365d', 'first_review', 'last_review',\n",
    "       'review_scores_rating', 'review_scores_accuracy',\n",
    "       'review_scores_cleanliness', 'review_scores_checkin',\n",
    "       'review_scores_communication', 'review_scores_location',\n",
    "       'review_scores_value', 'instant_bookable',\n",
    "       'calculated_host_listings_count',\n",
    "       'calculated_host_listings_count_entire_homes',\n",
    "       'calculated_host_listings_count_private_rooms',\n",
    "       'calculated_host_listings_count_shared_rooms', 'reviews_per_month']\n",
    "\n",
    "df_base = listings[columns_to_keep].copy()\n",
    "\n",
    "df_base.to_sql(\n",
    "    \"listings_base\",\n",
    "    engine,\n",
    "    schema=\"cleaned\",\n",
    "    if_exists=\"replace\",\n",
    "    index=False,\n",
    "    chunksize=5000  # small, safe batches\n",
    ")"
   ]
  },
  {
   "cell_type": "code",
   "execution_count": 100,
   "id": "18eed18e-ad3e-4fe6-a08a-db65bc8fdf0e",
   "metadata": {},
   "outputs": [
    {
     "data": {
      "text/plain": [
       "96651"
      ]
     },
     "execution_count": 100,
     "metadata": {},
     "output_type": "execute_result"
    }
   ],
   "source": [
    "len(df_base)"
   ]
  },
  {
   "cell_type": "code",
   "execution_count": 101,
   "id": "a7f89404-3250-4e85-b66a-08f6ccb3b128",
   "metadata": {},
   "outputs": [
    {
     "data": {
      "text/plain": [
       "np.int64(96651)"
      ]
     },
     "execution_count": 101,
     "metadata": {},
     "output_type": "execute_result"
    }
   ],
   "source": [
    "clean_cnt = pd.read_sql(\"SELECT COUNT(*) FROM cleaned.listings_base\", engine).iloc[0,0]\n",
    "clean_cnt"
   ]
  },
  {
   "cell_type": "code",
   "execution_count": 102,
   "id": "33f6d313-c671-496e-a18f-b73757ca4571",
   "metadata": {},
   "outputs": [],
   "source": [
    "# Parse 'amenities' safely into Python lists\n",
    "def parse_amenities(x):\n",
    "    if x is None or (isinstance(x, float) and pd.isna(x)):  # NaN\n",
    "        return []\n",
    "    if isinstance(x, list):\n",
    "        return x\n",
    "    if isinstance(x, str):\n",
    "        s = x.replace(\"{\",\"[\").replace(\"}\",\"]\")  # some dumps use {}\n",
    "        try:\n",
    "            val = ast.literal_eval(s)\n",
    "            return val if isinstance(val, (list, tuple, set)) else []\n",
    "        except Exception:\n",
    "            return []\n",
    "    return []\n"
   ]
  },
  {
   "cell_type": "code",
   "execution_count": 103,
   "id": "be012b92-26bc-4d0d-b864-942ad1ec40a1",
   "metadata": {},
   "outputs": [],
   "source": [
    "amen_lists = listings[\"amenities\"].apply(parse_amenities)\n",
    "\n",
    "# keep only frequent amenities to avoid 1000s of columns\n",
    "from collections import Counter\n",
    "cnt = Counter(a.strip().lower() for lst in amen_lists for a in set(lst))\n",
    "MIN_COUNT = 300  # tweak (e.g., 200–500). Lower = more columns\n",
    "kept = {a for a,c in cnt.items() if c >= MIN_COUNT}\n",
    "amen_lists = amen_lists.apply(lambda lst: [str(a).strip().lower() for a in lst if str(a).strip().lower() in kept])\n",
    "\n",
    "# One-hot encode as **sparse**\n",
    "mlb = MultiLabelBinarizer(sparse_output=True)  # <-- key difference\n",
    "X_sparse = mlb.fit_transform(amen_lists)       # scipy CSR matrix\n",
    "\n",
    "# Convert to a pandas **sparse** DataFrame to save RAM\n",
    "safe_col = lambda s: \"amen__\" + s.replace(\" \", \"_\").replace(\"/\", \"_\")\n",
    "amen_cols = [safe_col(c) for c in mlb.classes_]\n",
    "amen_df = pd.DataFrame.sparse.from_spmatrix(X_sparse, index=listings.index, columns=amen_cols)\n",
    "\n",
    "# smaller dtype\n",
    "for c in amen_df.columns:\n",
    "    amen_df[c] = amen_df[c].astype(pd.SparseDtype(\"int8\", fill_value=0))"
   ]
  },
  {
   "cell_type": "code",
   "execution_count": 105,
   "id": "4b0c6c2c-eb63-436b-95c4-0b91c95ce730",
   "metadata": {},
   "outputs": [
    {
     "data": {
      "text/plain": [
       "Index(['amen__air_conditioning', 'amen__arcade_games', 'amen__baby_bath',\n",
       "       'amen__baby_bath_-_available_upon_request', 'amen__baby_monitor',\n",
       "       'amen__baby_safety_gates', 'amen__babysitter_recommendations',\n",
       "       'amen__backyard', 'amen__baking_sheet', 'amen__barbecue_utensils',\n",
       "       ...\n",
       "       'amen__toaster', 'amen__trash_compactor', 'amen__tv',\n",
       "       'amen__tv_with_standard_cable', 'amen__washer',\n",
       "       'amen__washer_– in_unit', 'amen__waterfront', 'amen__wifi',\n",
       "       'amen__window_guards', 'amen__wine_glasses'],\n",
       "      dtype='object', length=207)"
      ]
     },
     "execution_count": 105,
     "metadata": {},
     "output_type": "execute_result"
    }
   ],
   "source": [
    "amen_df.columns"
   ]
  },
  {
   "cell_type": "code",
   "execution_count": 106,
   "id": "287a2e00-450b-40a8-9756-e9f62b8bc6f0",
   "metadata": {},
   "outputs": [
    {
     "data": {
      "text/plain": [
       "2608"
      ]
     },
     "execution_count": 106,
     "metadata": {},
     "output_type": "execute_result"
    }
   ],
   "source": [
    "amen_df.to_sql(\n",
    "    \"listings_amenities_wide\",\n",
    "    engine,\n",
    "    schema=\"cleaned\",\n",
    "    if_exists=\"replace\",\n",
    "    index=False,\n",
    "    chunksize=5000\n",
    ")"
   ]
  }
 ],
 "metadata": {
  "kernelspec": {
   "display_name": "Python 3 (ipykernel)",
   "language": "python",
   "name": "python3"
  },
  "language_info": {
   "codemirror_mode": {
    "name": "ipython",
    "version": 3
   },
   "file_extension": ".py",
   "mimetype": "text/x-python",
   "name": "python",
   "nbconvert_exporter": "python",
   "pygments_lexer": "ipython3",
   "version": "3.10.18"
  }
 },
 "nbformat": 4,
 "nbformat_minor": 5
}
